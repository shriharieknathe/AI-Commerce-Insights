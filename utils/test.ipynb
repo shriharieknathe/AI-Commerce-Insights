{
 "cells": [
  {
   "cell_type": "code",
   "execution_count": null,
   "metadata": {},
   "outputs": [],
   "source": [
    "from langchain_openai import ChatOpenAI\n",
    "from langchain_community.utilities import SQLDatabase\n",
    "from langchain_community.agent_toolkits import SQLDatabaseToolkit\n",
    "from langchain_core.messages import HumanMessage\n",
    "from langchain_core.messages import SystemMessage\n",
    "from langgraph.prebuilt import create_react_agent\n"
   ]
  },
  {
   "cell_type": "code",
   "execution_count": 2,
   "metadata": {},
   "outputs": [],
   "source": [
    "llm = ChatOpenAI(model=\"gpt-4o-mini\")\n"
   ]
  },
  {
   "cell_type": "code",
   "execution_count": null,
   "metadata": {},
   "outputs": [],
   "source": [
    "username = 'root'\n",
    "password = 'mindstix'\n",
    "host = 'localhost'  # or your database host\n",
    "port = '3306'       # default MySQL port\n",
    "database = 'edb'\n",
    "table_name = 'amazon_sale_report'\n",
    "sql_string = f'mysql+mysqlconnector://{username}:{password}@{host}:{port}/{database}'\n",
    "\n",
    "# db = SQLDatabase.from_uri(\"sqlite:///Chinook.db\")\n",
    "db = SQLDatabase.from_uri(sql_string)\n",
    "\n",
    "toolkit = SQLDatabaseToolkit(db=db, llm=llm)\n",
    "\n",
    "tools = toolkit.get_tools()\n",
    "\n",
    "tools"
   ]
  },
  {
   "cell_type": "code",
   "execution_count": 9,
   "metadata": {},
   "outputs": [],
   "source": [
    "# print(db.dialect)\n",
    "# print(db.get_usable_table_names())\n",
    "# print(db.run(\"SELECT * FROM amazon_sale_report LIMIT 10;\"))\n",
    "# print(db.get_table_info())\n",
    "# print(db.get_context())"
   ]
  },
  {
   "cell_type": "code",
   "execution_count": 10,
   "metadata": {},
   "outputs": [],
   "source": [
    "with open('db_schema.txt', 'r') as file:\n",
    "    # Read the contents of the file and store it in a variable\n",
    "    db_schema = file.read()"
   ]
  },
  {
   "cell_type": "code",
   "execution_count": null,
   "metadata": {},
   "outputs": [],
   "source": [
    "from langchain.chains import create_sql_query_chain\n",
    "\n",
    "chain = create_sql_query_chain(llm, db, prompt=PROMPT)\n",
    "response = chain.invoke({\"input\": \"give info with id 403-9615377-8133951\", \"table_info\": db_schema})\n",
    "response"
   ]
  },
  {
   "cell_type": "code",
   "execution_count": null,
   "metadata": {},
   "outputs": [],
   "source": [
    "db_chain.invoke(input={\"query\": \"give info with id 403-9615377-8133951\"})\n",
    "# res = db_chain.invoke(input={\"messages\": [HumanMessage(content=\"give info with id 403-9615377-8133951\")]})"
   ]
  },
  {
   "cell_type": "code",
   "execution_count": null,
   "metadata": {},
   "outputs": [],
   "source": [
    "system = \"\"\"\n",
    "Using the provided user question and the database schema , generate a valid MySQL query. Ensure that the query directly addresses the user's request and can handle complex logic if necessary. The goal is to retrieve relevant information from the database while accounting for potential joins, subqueries, or conditions as required.\n",
    "\n",
    "User question:\n",
    "\"\"\".format(\n",
    "    db_schema=db_schema\n",
    ")\n",
    "print(system)\n",
    "system_message = SystemMessage(content=system)\n",
    "\n",
    "\n",
    "agent = create_react_agent(llm, tools, messages_modifier=system_message)"
   ]
  },
  {
   "cell_type": "code",
   "execution_count": null,
   "metadata": {},
   "outputs": [],
   "source": [
    "\n",
    "_mysql_prompt = f\"\"\"You are a MySQL expert. Given an input question, first create a syntactically correct MySQL query to run, then look at the results of the query and return the answer to the input question.\n",
    "Unless the user specifies in the question a specific number of examples to obtain, query for at most 5 results using the LIMIT clause as per MySQL. You can order the results to return the most informative data in the database.\n",
    "Never query for all columns from a table. You must query only the columns that are needed to answer the question. Wrap each column name in backticks (`) to denote them as delimited identifiers.\n",
    "Pay attention to use only the column names you can see in the tables below. Be careful to not query for columns that do not exist. Also, pay attention to which column is in which table.\n",
    "Pay attention to use CURDATE() function to get the current date, if the question involves \"today\".\n",
    "\n",
    "Below is the name and description of each table tables that you can use:\n",
    "\n",
    "['amazon_sale_report', 'cloud_warehouse_compersion', 'customer_sales', 'p_l_march_2021', 'p_l_may_2022', 'stock']\n",
    "\n",
    "\n",
    "Question: \n",
    "\n",
    "\"\"\"\n",
    "\n",
    "\n",
    "system_message = SystemMessage(content=_mysql_prompt)\n"
   ]
  },
  {
   "cell_type": "code",
   "execution_count": null,
   "metadata": {},
   "outputs": [],
   "source": [
    "from langchain_community.tools.sql_database.tool import QuerySQLDataBaseTool\n",
    "from langchain.chains import create_sql_query_chain\n",
    "from langchain.chains.sql_database.query import create_sql_query_chain\n",
    "execute_query = QuerySQLDataBaseTool(db=db)\n",
    "# write_query = create_sql_query_chain(llm, db, prompt=_DEFAULT_TEMPLATE)\n",
    "chain = db_chain | execute_query\n",
    "db_chain.invoke({\"query\": \"give info with id 403-9615377-8133951\"})"
   ]
  },
  {
   "cell_type": "code",
   "execution_count": null,
   "metadata": {},
   "outputs": [],
   "source": [
    "chain.invoke({\"query\": \"give info with id 403-9615377-8133951\"})"
   ]
  },
  {
   "cell_type": "code",
   "execution_count": 7,
   "metadata": {},
   "outputs": [],
   "source": [
    "res = agent.invoke(input={\"messages\": [HumanMessage(content=\"Describe the given tables\")]})"
   ]
  },
  {
   "cell_type": "code",
   "execution_count": null,
   "metadata": {},
   "outputs": [],
   "source": [
    "for s in agent.stream(\n",
    "    {\"messages\": [HumanMessage(content=\"top 5 category with highest sales\")]}\n",
    "):\n",
    "    print(s)\n",
    "    print(\"----\")"
   ]
  },
  {
   "cell_type": "code",
   "execution_count": null,
   "metadata": {},
   "outputs": [],
   "source": [
    "for s in agent.stream(\n",
    "    {\"messages\": [HumanMessage(content=\"calculate the coorelation between size of product and its has selled succesfully \")]}\n",
    "):\n",
    "    print(s)\n",
    "    print(\"----\")"
   ]
  },
  {
   "cell_type": "code",
   "execution_count": null,
   "metadata": {},
   "outputs": [],
   "source": [
    "for s in agent.stream(\n",
    "    {\"messages\": [HumanMessage(content=\"the sales are down in june 2022 as compared to may 2022, what may be the possible reasons behind this. can you provide few datapoints and numeric results of analysis based on the data available to back your reasons\")]}\n",
    "):\n",
    "    print(s)\n",
    "    print(\"----\")"
   ]
  },
  {
   "cell_type": "code",
   "execution_count": null,
   "metadata": {},
   "outputs": [],
   "source": []
  },
  {
   "cell_type": "code",
   "execution_count": null,
   "metadata": {},
   "outputs": [],
   "source": [
    "from langchain_core.output_parsers.openai_tools import PydanticToolsParser\n",
    "from langchain_core.prompts import ChatPromptTemplate\n",
    "from pydantic import BaseModel, Field\n",
    "\n",
    "\n",
    "class Table(BaseModel):\n",
    "    \"\"\"Table in SQL database.\"\"\"\n",
    "\n",
    "    name: str = Field(description=\"Name of table in SQL database.\")\n",
    "\n",
    "\n",
    "table_names = \"\\n\".join(db.get_usable_table_names())\n",
    "system = f\"\"\"Return the names of ALL the SQL tables that MIGHT be relevant to the user question. \\\n",
    "The tables are:\n",
    "\n",
    "{table_names}\n",
    "\n",
    "Remember to include ALL POTENTIALLY RELEVANT tables, even if you're not sure that they're needed.\"\"\"\n",
    "\n",
    "prompt = ChatPromptTemplate.from_messages(\n",
    "    [\n",
    "        (\"system\", system),\n",
    "        (\"human\", \"{input}\"),\n",
    "    ]\n",
    ")\n",
    "llm_with_tools = llm.bind_tools([Table])\n",
    "output_parser = PydanticToolsParser(tools=[Table])\n",
    "\n",
    "table_chain = prompt | llm_with_tools | output_parser\n",
    "\n",
    "table_chain.invoke({\"input\": \"What are all the genres of Alanis Morisette songs\"})"
   ]
  },
  {
   "cell_type": "code",
   "execution_count": null,
   "metadata": {},
   "outputs": [],
   "source": [
    "# [QuerySQLDataBaseTool(description=\"Input to this tool is a detailed and correct SQL query, output is a result from the database. If the query is not correct, an error message will be returned. If an error is returned, rewrite the query, check the query, and try again. If you encounter an issue with Unknown column 'xxxx' in 'field list', use sql_db_schema to query the correct table fields.\", db=<langchain_community.utilities.sql_database.SQLDatabase object at 0x10fa9ee20>),\n",
    "#  InfoSQLDatabaseTool(description='Input to this tool is a comma-separated list of tables, output is the schema and sample rows for those tables. Be sure that the tables actually exist by calling sql_db_list_tables first! Example Input: table1, table2, table3', db=<langchain_community.utilities.sql_database.SQLDatabase object at 0x10fa9ee20>),\n",
    "#  ListSQLDatabaseTool(db=<langchain_community.utilities.sql_database.SQLDatabase object at 0x10fa9ee20>),\n",
    "#  QuerySQLCheckerTool(description='Use this tool to double check if your query is correct before executing it. Always use this tool before executing a query with sql_db_query!', db=<langchain_community.utilities.sql_database.SQLDatabase object at 0x10fa9ee20>, llm=ChatOpenAI(client=<openai.resources.chat.completions.Completions object at 0x10fa8e160>, async_client=<openai.resources.chat.completions.AsyncCompletions object at 0x10fa9e310>, root_client=<openai.OpenAI object at 0x1075a2310>, root_async_client=<openai.AsyncOpenAI object at 0x10fa8e1c0>, model_name='gpt-4o-mini', model_kwargs={}, openai_api_key=SecretStr('**********')), llm_chain=LLMChain(verbose=False, prompt=PromptTemplate(input_variables=['dialect', 'query'], input_types={}, partial_variables={}, template='\\n{query}\\nDouble check the {dialect} query above for common mistakes, including:\\n- Using NOT IN with NULL values\\n- Using UNION when UNION ALL should have been used\\n- Using BETWEEN for exclusive ranges\\n- Data type mismatch in predicates\\n- Properly quoting identifiers\\n- Using the correct number of arguments for functions\\n- Casting to the correct data type\\n- Using the proper columns for joins\\n\\nIf there are any of the above mistakes, rewrite the query. If there are no mistakes, just reproduce the original query.\\n\\nOutput the final SQL query only.\\n\\nSQL Query: '), llm=ChatOpenAI(client=<openai.resources.chat.completions.Completions object at 0x10fa8e160>, async_client=<openai.resources.chat.completions.AsyncCompletions object at 0x10fa9e310>, root_client=<openai.OpenAI object at 0x1075a2310>, root_async_client=<openai.AsyncOpenAI object at 0x10fa8e1c0>, model_name='gpt-4o-mini', model_kwargs={}, openai_api_key=SecretStr('**********')), output_parser=StrOutputParser(), llm_kwargs={}))]"
   ]
  },
  {
   "cell_type": "code",
   "execution_count": 14,
   "metadata": {},
   "outputs": [],
   "source": [
    "import pandas as pd\n",
    "\n",
    "# Load CSV into DataFrame\n",
    "df = pd.read_csv('P  L March 2021 Cleaned - P  L March 2021.csv')\n",
    "\n",
    "# Replace blank values with the word \"NULL\"\n",
    "df.replace('', 'NULL', inplace=True)\n",
    "\n",
    "# Save DataFrame back to CSV\n",
    "df.to_csv('output2222.csv', index=False)\n"
   ]
  },
  {
   "cell_type": "code",
   "execution_count": null,
   "metadata": {},
   "outputs": [],
   "source": [
    "import pandas as pd\n",
    "\n",
    "# Define the input file path and the desired chunk size\n",
    "input_csv = '/Users/apple/Documents/hackathon_ai/ai-commerce-insights/Orders - Sheet1.csv'  # Replace with your CSV file path\n",
    "chunk_size = 500000  # Number of lines per chunk\n",
    "\n",
    "# Read the CSV file in chunks and process each chunk\n",
    "for i, chunk in enumerate(pd.read_csv(input_csv, chunksize=chunk_size, sep=',', na_filter=False)):\n",
    "    # Replace blank values with the word \"NULL\"\n",
    "    chunk.replace('', 'NULL', inplace=True)\n",
    "    \n",
    "    # Save each processed chunk to a separate CSV file\n",
    "    output_csv = f\"chunk_{i+1}.csv\"  # Naming the output files\n",
    "    chunk.to_csv(output_csv, index=False)\n",
    "    print(f\"Chunk {i+1} saved as {output_csv}\")\n"
   ]
  },
  {
   "cell_type": "code",
   "execution_count": null,
   "metadata": {},
   "outputs": [],
   "source": [
    "import pandas as pd\n",
    "from sqlalchemy import create_engine\n",
    "\n",
    "# Define database connection parameters\n",
    "username = 'root'\n",
    "password = 'mindstix'\n",
    "host = 'localhost'  # or your database host\n",
    "port = '3306'       # default MySQL port\n",
    "database = 'edb'\n",
    "table_name = 'amazon_sale_report'\n",
    "csv_file_path = 'hii.csv'\n",
    "\n",
    "# Create a SQLAlchemy engine for the MySQL database\n",
    "engine = create_engine(f'mysql+mysqlconnector://{username}:{password}@{host}:{port}/{database}')\n",
    "\n",
    "# Read the CSV file into a DataFrame\n",
    "df = pd.read_csv(csv_file_path)\n",
    "\n",
    "# Write the DataFrame to a MySQL table\n",
    "df.to_sql(table_name, con=engine, if_exists='append', index=False)\n",
    "\n",
    "print(f\"Data from {csv_file_path} has been successfully imported to the {table_name} table in {database} database.\")\n"
   ]
  },
  {
   "cell_type": "code",
   "execution_count": 5,
   "metadata": {},
   "outputs": [],
   "source": [
    "def clean_query(query):\n",
    "    prefix = \"SQLQuery:\"\n",
    "    if query.startswith(prefix):\n",
    "        return query[len(prefix):].strip()\n",
    "    return query\n",
    "\n",
    "# Example usage\n",
    "# query = 'SQLQuery: SELECT COUNT(\"EmployeeId\") AS \"EmployeeCount\" FROM \"Employee\"'\n",
    "# cleaned_query = clean_query(query)\n",
    "# print(cleaned_query)\n"
   ]
  },
  {
   "cell_type": "code",
   "execution_count": 8,
   "metadata": {},
   "outputs": [],
   "source": [
    "# pip install -U langchain langchain-community langchain-openai\n",
    "from langchain_openai import ChatOpenAI\n",
    "from langchain.chains import create_sql_query_chain\n",
    "from langchain_community.utilities import SQLDatabase\n",
    "\n",
    "db = SQLDatabase.from_uri(\"sqlite:///Chinook.db\")\n",
    "llm = ChatOpenAI(model=\"gpt-4o-mini\", temperature=0)\n",
    "chain = create_sql_query_chain(llm, db)\n",
    "response = chain.invoke({\"question\": \"How many employees are there\"})"
   ]
  },
  {
   "cell_type": "code",
   "execution_count": 6,
   "metadata": {},
   "outputs": [],
   "source": [
    "response = clean_query(response)"
   ]
  },
  {
   "cell_type": "code",
   "execution_count": null,
   "metadata": {},
   "outputs": [],
   "source": [
    "db.run(response)"
   ]
  },
  {
   "cell_type": "code",
   "execution_count": null,
   "metadata": {},
   "outputs": [],
   "source": [
    "# from langchain import OpenAI, SQLDatabase, SQLDatabaseChain\n",
    "from langchain_experimental.sql import SQLDatabaseChain\n",
    "\n",
    "\n",
    "db.get_usable_table_names()\n",
    "db_chain = SQLDatabaseChain.from_llm(llm=llm, db=db, verbose=False)\n",
    "db_chain.run(\"give nuber of order with amount less than 1000\")"
   ]
  },
  {
   "cell_type": "code",
   "execution_count": 10,
   "metadata": {},
   "outputs": [],
   "source": [
    "from langchain_core.output_parsers import StrOutputParser\n",
    "from langchain_core.prompts import ChatPromptTemplate\n",
    "from langchain.chains import create_sql_query_chain\n"
   ]
  },
  {
   "cell_type": "code",
   "execution_count": null,
   "metadata": {},
   "outputs": [],
   "source": [
    "system = \"\"\"You are a {dialect} expert. Given an input question, create a syntactically correct {dialect} query to run.\n",
    "Unless the user specifies in the question a specific number of examples to obtain, query for at most {top_k} results using the LIMIT clause as per {dialect}. You can order the results to return the most informative data in the database.\n",
    "Never query for all columns from a table. You must query only the columns that are needed to answer the question. Wrap each column name in double quotes (\") to denote them as delimited identifiers.\n",
    "Pay attention to use only the column names you can see in the tables below. Be careful to not query for columns that do not exist. Also, pay attention to which column is in which table.\n",
    "Pay attention to use date('now') function to get the current date, if the question involves \"today\".\n",
    "\n",
    "Only use the following tables:\n",
    "{table_info}\n",
    "\n",
    "Write an initial draft of the query. Then double check the {dialect} query for common mistakes, including:\n",
    "- Using NOT IN with NULL values\n",
    "- Using UNION when UNION ALL should have been used\n",
    "- Using BETWEEN for exclusive ranges\n",
    "- Data type mismatch in predicates\n",
    "- Properly quoting identifiers\n",
    "- Using the correct number of arguments for functions\n",
    "- Casting to the correct data type\n",
    "- Using the proper columns for joins\n",
    "\n",
    "Use format:\n",
    "\n",
    "First draft: <<FIRST_DRAFT_QUERY>>\n",
    "Final answer: <<FINAL_ANSWER_QUERY>>\n",
    "\"\"\"\n",
    "prompt = ChatPromptTemplate.from_messages(\n",
    "    [(\"system\", system), (\"human\", \"{input}\")]\n",
    ").partial(dialect=db.dialect)\n",
    "\n",
    "\n",
    "def parse_final_answer(output: str) -> str:\n",
    "    return output.split(\"Final answer: \")[1]\n",
    "\n",
    "\n",
    "chain = create_sql_query_chain(llm, db, prompt=prompt)\n",
    "prompt.pretty_print()"
   ]
  },
  {
   "cell_type": "code",
   "execution_count": null,
   "metadata": {},
   "outputs": [],
   "source": [
    "db.dialect"
   ]
  },
  {
   "cell_type": "code",
   "execution_count": null,
   "metadata": {},
   "outputs": [],
   "source": [
    "query = chain.invoke(\n",
    "    {\n",
    "        \"question\": \"give info with id 403-9615377-8133951\"\n",
    "    }\n",
    ")\n",
    "print(query)"
   ]
  },
  {
   "cell_type": "code",
   "execution_count": null,
   "metadata": {},
   "outputs": [],
   "source": [
    "db.run(query)"
   ]
  },
  {
   "cell_type": "code",
   "execution_count": null,
   "metadata": {},
   "outputs": [],
   "source": [
    "from langchain_community.utilities import SQLDatabase\n",
    "\n",
    "db = SQLDatabase.from_uri(\"sqlite:///Chinook.db\")\n",
    "print(db.dialect)\n",
    "print(db.get_usable_table_names())\n",
    "db.run(\"SELECT * FROM Artist LIMIT 10;\")"
   ]
  },
  {
   "cell_type": "code",
   "execution_count": null,
   "metadata": {},
   "outputs": [],
   "source": [
    "from langchain.chains import create_sql_query_chain\n",
    "\n",
    "from langchain_openai import ChatOpenAI\n",
    "\n",
    "llm = ChatOpenAI(model=\"gpt-4o-mini\")\n",
    "chain = create_sql_query_chain(llm, db)\n",
    "response = chain.invoke({\"question\": \"How many employees are there\"})\n",
    "response"
   ]
  },
  {
   "cell_type": "code",
   "execution_count": 32,
   "metadata": {},
   "outputs": [],
   "source": [
    "def clean_query(query):\n",
    "    prefix = \"SQLQuery:\"\n",
    "    if query.startswith(prefix):\n",
    "        return query[len(prefix):].strip()\n",
    "    return query\n",
    "\n",
    "response = clean_query(response)"
   ]
  },
  {
   "cell_type": "code",
   "execution_count": null,
   "metadata": {},
   "outputs": [],
   "source": [
    "db.run(response)"
   ]
  },
  {
   "cell_type": "code",
   "execution_count": null,
   "metadata": {},
   "outputs": [],
   "source": [
    "for s in agent_executor.stream(\n",
    "    {\"messages\": [HumanMessage(content=\"top 5 category with highest sales\")]}\n",
    "):\n",
    "    print(s)\n",
    "    print(\"----\")"
   ]
  },
  {
   "cell_type": "code",
   "execution_count": null,
   "metadata": {},
   "outputs": [],
   "source": [
    "username = 'root'\n",
    "password = 'mindstix'\n",
    "host = 'localhost'  # or your database host\n",
    "port = '3306'       # default MySQL port\n",
    "database = 'edb'\n",
    "table_name = 'amazon_sale_report'\n",
    "sql_string = f'mysql+mysqlconnector://{username}:{password}@{host}:{port}/{database}'\n",
    "from langchain_community.utilities import SQLDatabase\n",
    "\n",
    "# db = SQLDatabase.from_uri(\"sqlite:///Chinook.db\")\n",
    "db = SQLDatabase.from_uri(sql_string)\n"
   ]
  },
  {
   "cell_type": "code",
   "execution_count": null,
   "metadata": {},
   "outputs": [],
   "source": [
    "from langchain_community.utilities import SQLDatabase\n",
    "from sqlalchemy import create_engine, text\n",
    "\n",
    "# Database connection details\n",
    "username = 'root'\n",
    "password = 'mindstix'\n",
    "host = 'localhost'  # or your database host\n",
    "port = '3306'       # default MySQL port\n",
    "database = 'edb'\n",
    "table_name = 'customer_sales'\n",
    "\n",
    "# SQLAlchemy connection string\n",
    "sql_string = f'mysql+mysqlconnector://{username}:{password}@{host}:{port}/{database}'\n",
    "\n",
    "# Create a SQLAlchemy engine\n",
    "engine = create_engine(sql_string)\n",
    "\n",
    "# Connect to the database and execute the DROP TABLE command\n",
    "with engine.connect() as connection:\n",
    "    drop_table_query = f\"DROP TABLE IF EXISTS {table_name};\"\n",
    "    connection.execute(text(drop_table_query))\n",
    "\n",
    "print(f\"Table {table_name} deleted successfully (if it existed).\")\n"
   ]
  },
  {
   "cell_type": "code",
   "execution_count": 10,
   "metadata": {},
   "outputs": [
    {
     "name": "stdout",
     "output_type": "stream",
     "text": [
      "SELECT \n",
      "COUNT(CASE WHEN `Status` LIKE 'Shipped%' THEN 1 END) / COUNT(*) * 100 AS `FulfillmentRate`\n",
      "FROM `amazon_sale_report`\n",
      "WHERE `OrderDate` BETWEEN '2022-06-01' AND '2022-06-30';\n"
     ]
    }
   ],
   "source": [
    "print(\"SELECT \\nCOUNT(CASE WHEN `Status` LIKE 'Shipped%' THEN 1 END) / COUNT(*) * 100 AS `FulfillmentRate`\\nFROM `amazon_sale_report`\\nWHERE `OrderDate` BETWEEN '2022-06-01' AND '2022-06-30';\")"
   ]
  },
  {
   "cell_type": "code",
   "execution_count": null,
   "metadata": {},
   "outputs": [],
   "source": []
  }
 ],
 "metadata": {
  "kernelspec": {
   "display_name": ".venv",
   "language": "python",
   "name": "python3"
  },
  "language_info": {
   "codemirror_mode": {
    "name": "ipython",
    "version": 3
   },
   "file_extension": ".py",
   "mimetype": "text/x-python",
   "name": "python",
   "nbconvert_exporter": "python",
   "pygments_lexer": "ipython3",
   "version": "3.9.6"
  }
 },
 "nbformat": 4,
 "nbformat_minor": 2
}
